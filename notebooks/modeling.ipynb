{
 "cells": [
  {
   "cell_type": "code",
   "execution_count": 7,
   "id": "ee4d415e",
   "metadata": {},
   "outputs": [],
   "source": [
    "from sklearn.ensemble import RandomForestClassifier\n",
    "from sklearn.model_selection import train_test_split\n",
    "from sklearn.metrics import classification_report\n",
    "import pandas as pd \n",
    "\n",
    "df = pd.read_csv(\"/Users/khali/Desktop/Coding Workspace/Flight Delay Prediction/data/processed/Airline_Delay_Cause_Clean.csv\")\n",
    "\n",
    "df[\"high_delay\"] = (df[\"delay_rate\"] > 0.2 ).astype(int)"
   ]
  },
  {
   "cell_type": "code",
   "execution_count": null,
   "id": "6ec55294",
   "metadata": {},
   "outputs": [
    {
     "name": "stdout",
     "output_type": "stream",
     "text": [
      "              precision    recall  f1-score   support\n",
      "\n",
      "           0       0.71      1.00      0.83        12\n",
      "           1       0.00      0.00      0.00         5\n",
      "\n",
      "    accuracy                           0.71        17\n",
      "   macro avg       0.35      0.50      0.41        17\n",
      "weighted avg       0.50      0.71      0.58        17\n",
      "\n"
     ]
    }
   ],
   "source": [
    "x = df[[\"month\" , \"carrier\" , \"airport\" , \"carrier_ct\" , \"weather_ct\" , \"nas_ct\" , \"late_aircraft_ct\"]]\n",
    "y = df[\"high_delay\"]\n",
    "\n",
    "\n",
    "x = pd.get_dummies(x , columns=[\"carrier\" , \"airport\" ] , drop_first=True)\n",
    "\n",
    "x_train, x_test, y_train, y_test = train_test_split(x,y, test_size=0.2 , random_state=42) \n",
    "#we training 80% of the data, we're just prepping it here for now\n",
    "\n",
    "model = RandomForestClassifier(n_estimators=100, random_state=42)\n",
    "model.fit(x_train,y_train)\n",
    "#^ above code actually trains it now \n",
    "\n",
    "\n",
    "y_pred = model.predict(x_test)\n",
    "print(classification_report(y_test, y_pred , zero_division=0))\n",
    "#y_pred tests itself on x_test, and bases on how good it did versus y_test"
   ]
  }
 ],
 "metadata": {
  "kernelspec": {
   "display_name": "Python 3",
   "language": "python",
   "name": "python3"
  },
  "language_info": {
   "codemirror_mode": {
    "name": "ipython",
    "version": 3
   },
   "file_extension": ".py",
   "mimetype": "text/x-python",
   "name": "python",
   "nbconvert_exporter": "python",
   "pygments_lexer": "ipython3",
   "version": "3.13.3"
  }
 },
 "nbformat": 4,
 "nbformat_minor": 5
}
